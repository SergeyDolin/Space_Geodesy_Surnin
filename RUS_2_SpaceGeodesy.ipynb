{
 "cells": [
  {
   "cell_type": "markdown",
   "metadata": {},
   "source": [
    "# Лекции по космической геодезии к.т.н. Юрия Венедиктовича Сурнина\n",
    "\n",
    "* Редакция \n",
    "            \n",
    "        к.т.н. Липатников Лениод Алексеевич\n",
    "        к.т.н. Мареев Артем Владимирович\n",
    "\n",
    "* Оформление \n",
    "    \n",
    "        к.т.н. Долин Сергей Владимирович "
   ]
  },
  {
   "cell_type": "markdown",
   "metadata": {
    "vscode": {
     "languageId": "plaintext"
    }
   },
   "source": [
    "# Тема 2. Аналитическое решение задачи определения координат наземного пункта по измеренным псевдодальностям"
   ]
  },
  {
   "cell_type": "markdown",
   "metadata": {},
   "source": []
  }
 ],
 "metadata": {
  "kernelspec": {
   "display_name": "base",
   "language": "python",
   "name": "python3"
  },
  "language_info": {
   "codemirror_mode": {
    "name": "ipython",
    "version": 3
   },
   "file_extension": ".py",
   "mimetype": "text/x-python",
   "name": "python",
   "nbconvert_exporter": "python",
   "pygments_lexer": "ipython3",
   "version": "3.11.11"
  }
 },
 "nbformat": 4,
 "nbformat_minor": 2
}
